{
 "cells": [
  {
   "cell_type": "code",
   "execution_count": null,
   "id": "5aacb6c8-2d21-405a-a714-930f55e8f68f",
   "metadata": {},
   "outputs": [],
   "source": [
    "def exercise1(tp, fp, fn):\n",
    "    if type(tp)!=int or type(fp)!=int or type(fn)!=int:\n",
    "        print('tp, fp and fn must be int')\n",
    "        return\n",
    "    elif tp<0 or fp<0 or fn<0:\n",
    "        print('tp, fp and fn must be greater than 0')\n",
    "        return \n",
    "    Precision = tp/(tp+fp)\n",
    "    recall = tp/(tp+fn)\n",
    "    F1_score = 2*(Precision*recall)/(Precision+recall)\n",
    "    print('Precision is ', Precision)\n",
    "    print('Recall is ', recall)\n",
    "    print('F1-score is ', F1_score)\n",
    "\n",
    "exercise1(2, 4, 5)"
   ]
  }
 ],
 "metadata": {
  "kernelspec": {
   "display_name": "Python 3 (ipykernel)",
   "language": "python",
   "name": "python3"
  },
  "language_info": {
   "codemirror_mode": {
    "name": "ipython",
    "version": 3
   },
   "file_extension": ".py",
   "mimetype": "text/x-python",
   "name": "python",
   "nbconvert_exporter": "python",
   "pygments_lexer": "ipython3",
   "version": "3.11.7"
  }
 },
 "nbformat": 4,
 "nbformat_minor": 5
}
