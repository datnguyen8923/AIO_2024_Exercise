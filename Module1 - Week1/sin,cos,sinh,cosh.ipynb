{
 "cells": [
  {
   "cell_type": "code",
   "execution_count": 1,
   "id": "46a3a169-37e6-4726-a8c4-4c62f6b9615b",
   "metadata": {},
   "outputs": [
    {
     "data": {
      "text/plain": [
       "11.573574824666185"
      ]
     },
     "execution_count": 1,
     "metadata": {},
     "output_type": "execute_result"
    }
   ],
   "source": [
    " def sin(n, x=3.14):\n",
    "    sin = 0\n",
    "    for i in range(n):\n",
    "        TS = x**(2*i+1)\n",
    "        MS = 1\n",
    "        for b in range(1, 2*i+2):\n",
    "            MS = MS*b\n",
    "        result = (-1)**i * TS / MS\n",
    "        sin = sin + result\n",
    "    return sin\n",
    "\n",
    "def cos(n, x=3.14):\n",
    "    cos = 0\n",
    "    for i in range(n):\n",
    "        TS = x**(2*i)\n",
    "        MS = 1\n",
    "        for b in range(2, 2*i+1):\n",
    "            MS = MS*b\n",
    "        result = (-1)**i * TS / MS\n",
    "        cos = cos + result\n",
    "    return cos\n",
    "\n",
    "def sinh(n, x=3.14):\n",
    "    sinh = 0\n",
    "    for i in range(n):\n",
    "        TS = x**(2*i+1)\n",
    "        MS = 1\n",
    "        for b in range(1, 2*i+2):\n",
    "            MS = MS*b\n",
    "        result = TS / MS\n",
    "        sinh = sinh + result\n",
    "    return sinh\n",
    "\n",
    "def cosh(n, x=3.14):\n",
    "    cosh = 0 \n",
    "    for i in range(n):\n",
    "        TS = x**(2*i)\n",
    "        MS = 1\n",
    "        for b in range(2, 2*i+1):\n",
    "            MS = MS*b\n",
    "        result = TS / MS\n",
    "        cosh = cosh + result\n",
    "    return cosh\n",
    "\n",
    "cosh(10, x=3.14)"
   ]
  }
 ],
 "metadata": {
  "kernelspec": {
   "display_name": "Python 3 (ipykernel)",
   "language": "python",
   "name": "python3"
  },
  "language_info": {
   "codemirror_mode": {
    "name": "ipython",
    "version": 3
   },
   "file_extension": ".py",
   "mimetype": "text/x-python",
   "name": "python",
   "nbconvert_exporter": "python",
   "pygments_lexer": "ipython3",
   "version": "3.11.7"
  }
 },
 "nbformat": 4,
 "nbformat_minor": 5
}
