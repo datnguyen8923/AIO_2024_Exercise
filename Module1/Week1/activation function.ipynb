{
 "cells": [
  {
   "cell_type": "code",
   "execution_count": null,
   "id": "06958482-ed97-4e53-8e2e-fafd440000db",
   "metadata": {},
   "outputs": [],
   "source": [
    "import math\n",
    "   \n",
    "def is_number(n):\n",
    "    try:\n",
    "        float(n)    # Type - casting the string to ‘float ‘.\n",
    "                    # If string is not a valid ‘float ‘ ,\n",
    "                    # it ’ll raise ‘ValueError ‘ exception\n",
    "    except ValueError :\n",
    "        return False\n",
    "    return True\n",
    "\n",
    "def calc_sig(x):\n",
    "    result = 1/(1+math.e**(-x))\n",
    "    return result \n",
    "\n",
    "def calc_relu(x):\n",
    "    if x<0:\n",
    "        result = 0\n",
    "    else: \n",
    "        result = x\n",
    "    return result\n",
    "def calc_elu(x):\n",
    "    alpha = 0.01\n",
    "    if x<0:\n",
    "        result = alpha*(math.e**x-1)\n",
    "    else:\n",
    "        result = x\n",
    "    return result\n",
    "\n",
    "def calc_activation_function(x, act_name):\n",
    "    result = None\n",
    "    if act_name == 'sigmoid':\n",
    "        result = calc_sig(x)\n",
    "    if act_name == 'relu':\n",
    "        result = calc_relu(x)\n",
    "    if act_name == 'elu':\n",
    "        result = calc_elu(x)\n",
    "    return result\n",
    "    \n",
    "def exercise2():\n",
    "    x = input(\"input x = ?\")\n",
    "    if not is_number(x):\n",
    "        print('x must be a number')\n",
    "        return\n",
    "\n",
    "    act_name = input('Input activation function (sigmoid|relu|elu): ')\n",
    "    x = float(x)\n",
    "    result = calc_activation_function(x, act_name)\n",
    "    if result is None:\n",
    "        print(act_name, 'is not suported')\n",
    "    else:\n",
    "        print(f'{act_name}: f({x}) = {result}')\n",
    "\n",
    "exercise2()"
   ]
  }
 ],
 "metadata": {
  "kernelspec": {
   "display_name": "Python 3 (ipykernel)",
   "language": "python",
   "name": "python3"
  },
  "language_info": {
   "codemirror_mode": {
    "name": "ipython",
    "version": 3
   },
   "file_extension": ".py",
   "mimetype": "text/x-python",
   "name": "python",
   "nbconvert_exporter": "python",
   "pygments_lexer": "ipython3",
   "version": "3.11.7"
  }
 },
 "nbformat": 4,
 "nbformat_minor": 5
}
