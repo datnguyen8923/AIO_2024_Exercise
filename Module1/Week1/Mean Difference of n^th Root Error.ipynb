{
 "cells": [
  {
   "cell_type": "code",
   "execution_count": null,
   "id": "dbf498b1-3cbc-43b8-aafb-2233d210770f",
   "metadata": {},
   "outputs": [],
   "source": [
    "def md_nre_single_sample2 (y , y_hat , n , p ) :\n",
    "    y_root = y ** (1/ n )\n",
    "    y_hat_root = y_hat ** (1/ n )\n",
    "    difference = y_root - y_hat_root\n",
    "    loss = difference ** p\n",
    "    return loss\n",
    "\n",
    "md_nre_single_sample2 (10, 9, 2, 2)"
   ]
  }
 ],
 "metadata": {
  "kernelspec": {
   "display_name": "Python 3 (ipykernel)",
   "language": "python",
   "name": "python3"
  },
  "language_info": {
   "codemirror_mode": {
    "name": "ipython",
    "version": 3
   },
   "file_extension": ".py",
   "mimetype": "text/x-python",
   "name": "python",
   "nbconvert_exporter": "python",
   "pygments_lexer": "ipython3",
   "version": "3.11.7"
  }
 },
 "nbformat": 4,
 "nbformat_minor": 5
}
