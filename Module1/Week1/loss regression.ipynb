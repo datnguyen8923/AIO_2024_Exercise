{
 "cells": [
  {
   "cell_type": "code",
   "execution_count": 2,
   "id": "95285435-86f4-464c-b8bf-4f0b519b0c54",
   "metadata": {},
   "outputs": [
    {
     "name": "stdin",
     "output_type": "stream",
     "text": [
      "input number of samples?  3\n",
      "input regression_loss_function (MSE|MAE|RMSE) MAE\n"
     ]
    },
    {
     "name": "stdout",
     "output_type": "stream",
     "text": [
      "target is 0.8595832960742213\n",
      "predict is 0.7528744813902035\n",
      "target is 0.8361169534865739\n",
      "predict is 0.6698023401088371\n",
      "target is 0.3184307326628427\n",
      "predict is 0.2689545794171899\n",
      "MAE = 0.10749986043580247\n"
     ]
    }
   ],
   "source": [
    "import random\n",
    "import math\n",
    "\n",
    "def MAE(n):\n",
    "    mae = 0\n",
    "    for i in range(n):\n",
    "        y = random.random()\n",
    "        y_hat = random.random()\n",
    "        print(f'target is {y}')\n",
    "        print(f'predict is {y_hat}')\n",
    "        abs_error = abs(y - y_hat)\n",
    "        mae = mae + abs_error\n",
    "    mae = mae/n\n",
    "    return mae\n",
    "\n",
    "def MSE(n):\n",
    "    mse = 0\n",
    "    for i in range(n):\n",
    "        y = random.random()\n",
    "        y_hat = random.random()\n",
    "        print(f'target is {y}')\n",
    "        print(f'predict is {y_hat}')\n",
    "        abs_error = abs(y - y_hat)\n",
    "        abs_error = abs_error**2\n",
    "        mse = mse + abs_error\n",
    "    mse = mse/n\n",
    "    return mse\n",
    "\n",
    "def RMSE(n):\n",
    "    rmse = 0\n",
    "    for i in range(n):\n",
    "        y = random.random()\n",
    "        y_hat = random.random()\n",
    "        print(f'target is {y}')\n",
    "        print(f'predict is {y_hat}')\n",
    "        abs_error = abs(y - y_hat)\n",
    "        abs_error = abs_error**2\n",
    "        rmse = rmse + abs_error\n",
    "    rmse = rmse/n\n",
    "    rmse = math.sqrt(rmse)\n",
    "    return rmse\n",
    "\n",
    "def is_numeric(n):\n",
    "    try:\n",
    "        int(n)      # Type - casting the string to ‘int ‘.\n",
    "                    # If string is not a valid ‘int ‘ ,\n",
    "                    # it ’ll raise ‘ValueError ‘ exception\n",
    "    except ValueError :\n",
    "        return False\n",
    "    return True\n",
    "\n",
    "def regression_loss_func(n, act_name):\n",
    "    result = None\n",
    "    if act_name == 'MSE':\n",
    "        result = MSE(n)\n",
    "    if act_name == 'MAE':\n",
    "        result = MAE(n)\n",
    "    if act_name == 'RMSE':\n",
    "        result = RMSE(n)\n",
    "    return result\n",
    "\n",
    "def exercise3():\n",
    "    n = input('input number of samples? ')\n",
    "    if not is_numeric(n):\n",
    "        print('number of samples must be an int')\n",
    "        return\n",
    "    n = int(n)\n",
    "    act_name = input('input regression_loss_function (MSE|MAE|RMSE)')\n",
    "    result = regression_loss_func(n, act_name)\n",
    "    if result is None:\n",
    "        print(act_name, 'is not supported')\n",
    "    else:\n",
    "        print(f'{act_name} = {result}')\n",
    "\n",
    "exercise3()"
   ]
  },
  {
   "cell_type": "code",
   "execution_count": null,
   "id": "b5baf123-3fc7-4aa4-b38c-6a5629587db0",
   "metadata": {},
   "outputs": [],
   "source": []
  }
 ],
 "metadata": {
  "kernelspec": {
   "display_name": "Python 3 (ipykernel)",
   "language": "python",
   "name": "python3"
  },
  "language_info": {
   "codemirror_mode": {
    "name": "ipython",
    "version": 3
   },
   "file_extension": ".py",
   "mimetype": "text/x-python",
   "name": "python",
   "nbconvert_exporter": "python",
   "pygments_lexer": "ipython3",
   "version": "3.11.7"
  }
 },
 "nbformat": 4,
 "nbformat_minor": 5
}
